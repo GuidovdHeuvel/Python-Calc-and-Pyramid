{
 "cells": [
  {
   "cell_type": "code",
   "execution_count": null,
   "metadata": {},
   "outputs": [],
   "source": [
    "#Exercise #1\n",
    "Create a calculator using functions that asks for two numbers and performs a calculation that the user inputs... \n",
    "Loop until the user chooses not to perform any more calculations.\n",
    "Hint: Take yesterday's code from the extra exercise..."
   ]
  },
  {
   "cell_type": "code",
   "execution_count": 2,
   "metadata": {},
   "outputs": [
    {
     "name": "stdout",
     "output_type": "stream",
     "text": [
      "What do you want to do: add, multiply, devide, subtract or type 'quit' to stopquit\n"
     ]
    }
   ],
   "source": [
    "list1 = []\n",
    "list2 = []\n",
    "list3 = []\n",
    "\n",
    "while list1 != \"quit\":\n",
    "    list1 = input(\"What do you want to do: add, multiply, divide, subtract or type 'quit' to stop\")\n",
    "    if list1 == \"quit\":\n",
    "        break    \n",
    "    list2 = int(input(\"Give me a number: \"))\n",
    "    list3 = int(input(\"Give me an other number: \"))\n",
    " \n",
    "    if list1 == \"add\":\n",
    "        print(list2 + list3)\n",
    "    if list1 == \"multiply\":\n",
    "        print(list2 * list3)\n",
    "    if list1 == \"divide\":\n",
    "        print(list2 / list3)\n",
    "    if list1 == \"subtract\":\n",
    "        print(list2 - list3)\n",
    "\n",
    "    \n",
    "\n",
    "        "
   ]
  },
  {
   "cell_type": "code",
   "execution_count": null,
   "metadata": {},
   "outputs": [],
   "source": [
    "#Exercise 2\n",
    "Create a pyramid of X's for n number of levels."
   ]
  },
  {
   "cell_type": "code",
   "execution_count": 15,
   "metadata": {},
   "outputs": [],
   "source": [
    "def triangle(n): \n",
    "    k = 2*n - 2\n",
    "    \n",
    "    for i in range(0, n):\n",
    "        for j in range(0, k): \n",
    "            print(end=\" \") \n",
    "      \n",
    "        k = k - 1\n",
    "      \n",
    "        for j in range(0, i+1): \n",
    "            print(\"X \", end=\"\")\n",
    "\n",
    "        print(\"\\r\")"
   ]
  },
  {
   "cell_type": "code",
   "execution_count": 16,
   "metadata": {},
   "outputs": [
    {
     "name": "stdout",
     "output_type": "stream",
     "text": [
      "        X \r\n",
      "       X X \r\n",
      "      X X X \r\n",
      "     X X X X \r\n",
      "    X X X X X \r\n"
     ]
    }
   ],
   "source": [
    "triangle(5)"
   ]
  }
 ],
 "metadata": {
  "kernelspec": {
   "display_name": "Python 3",
   "language": "python",
   "name": "python3"
  },
  "language_info": {
   "codemirror_mode": {
    "name": "ipython",
    "version": 3
   },
   "file_extension": ".py",
   "mimetype": "text/x-python",
   "name": "python",
   "nbconvert_exporter": "python",
   "pygments_lexer": "ipython3",
   "version": "3.7.6"
  }
 },
 "nbformat": 4,
 "nbformat_minor": 4
}
